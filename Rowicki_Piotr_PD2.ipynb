{
 "cells": [
  {
   "cell_type": "markdown",
   "source": [
    "# Przetwarzanie Danych w językach R i Python Projekt 2\n",
    "# Piotr Rowicki\n"
   ],
   "metadata": {
    "collapsed": false
   },
   "id": "d416399da72ca1ce"
  },
  {
   "cell_type": "markdown",
   "source": [
    "## Wstęp \n",
    "Podobnie jak język R, pyhon również udostępnia narzędzie do przetwarzania danych. Jest nim biblioteka pandas. Podobnie jak w projekcie 1, porównamy jej działanie z zapytaniami SQL.\n",
    "Zapytania mają dokładnie taką samą tresć jak te z pierwszego projektu, więc interpretacja ich zostanie pominięta. A ponieważ implementowane będą one tylko jedną petodą (poza wzorcową, która przez swój charakter nie ma szans być wydajniejsza), porównania czasowe również zostaną pominięte "
   ],
   "metadata": {
    "collapsed": false
   },
   "id": "2cf809e79c832530"
  },
  {
   "cell_type": "code",
   "outputs": [],
   "source": [
    "#załączenie dependencji\n",
    "from  Rowicki_Piotr_PD2 import *\n",
    "import pandas as pd\n",
    "import  numpy as np\n",
    "import sqlite3\n",
    "import os"
   ],
   "metadata": {
    "collapsed": true,
    "ExecuteTime": {
     "end_time": "2024-03-30T14:45:02.074551900Z",
     "start_time": "2024-03-30T14:45:01.176076Z"
    }
   },
   "id": "initial_id",
   "execution_count": 1
  },
  {
   "cell_type": "code",
   "outputs": [],
   "source": [
    "# wczytanie danych\n",
    "Posts = pd.read_csv(\"travel_stackexchange_com/Posts.csv.gz\",compression = 'gzip')\n",
    "Comments = pd.read_csv(\"travel_stackexchange_com/Comments.csv.gz\",compression = 'gzip')\n",
    "Users = pd.read_csv(\"travel_stackexchange_com/Users.csv.gz\",compression = 'gzip')\n",
    "PostLinks = pd.read_csv(\"travel_stackexchange_com/PostLinks.csv.gz\",compression = 'gzip')"
   ],
   "metadata": {
    "collapsed": false,
    "ExecuteTime": {
     "end_time": "2024-03-30T14:45:05.702168900Z",
     "start_time": "2024-03-30T14:45:02.076725400Z"
    }
   },
   "id": "22f1ec54a63ef279",
   "execution_count": 2
  },
  {
   "cell_type": "code",
   "outputs": [
    {
     "data": {
      "text/plain": "95922"
     },
     "execution_count": 3,
     "metadata": {},
     "output_type": "execute_result"
    }
   ],
   "source": [
    "# ustanowienie połączenia i wypełnienie bazy danych\n",
    "database=os.path.join(\"stackexchange.db\")\n",
    "if os.path.exists(database):\n",
    "    os.remove(database)\n",
    "conn = sqlite3.connect(database)\n",
    "PostLinks.to_sql(\"PostLinks\",conn)\n",
    "Posts.to_sql(\"Posts\",conn)\n",
    "Comments.to_sql(\"Comments\",conn)\n",
    "Users.to_sql(\"Users\",conn)"
   ],
   "metadata": {
    "collapsed": false,
    "ExecuteTime": {
     "end_time": "2024-03-30T14:45:09.413696400Z",
     "start_time": "2024-03-30T14:45:05.704407800Z"
    }
   },
   "id": "3058403e0476b564",
   "execution_count": 3
  },
  {
   "cell_type": "code",
   "outputs": [],
   "source": [
    "# w przypadku kiedy baza juz istnieje\n",
    "database=os.path.join(\"stackexchange.db\")\n",
    "conn = sqlite3.connect(database)"
   ],
   "metadata": {
    "collapsed": false,
    "is_executing": true
   },
   "id": "1f45af2776c01a2b"
  },
  {
   "cell_type": "markdown",
   "source": [
    "## Zapytanie 1\n"
   ],
   "metadata": {
    "collapsed": false
   },
   "id": "17b178f778aa81b8"
  },
  {
   "cell_type": "code",
   "outputs": [],
   "source": [
    "# sql\n",
    "sqlRes_1=pd.read_sql_query(sql=\"\"\"SELECT Location, COUNT(*) AS Count\n",
    "FROM (\n",
    "SELECT Posts.OwnerUserId, Users.Id, Users.Location\n",
    "FROM Users\n",
    "JOIN Posts ON Users.Id = Posts.OwnerUserId\n",
    ")\n",
    "WHERE Location NOT IN ('')\n",
    "GROUP BY Location\n",
    "ORDER BY Count DESC\n",
    "LIMIT 10\n",
    "\"\"\",con=conn)"
   ],
   "metadata": {
    "collapsed": false,
    "ExecuteTime": {
     "end_time": "2024-03-30T14:45:09.748858800Z",
     "start_time": "2024-03-30T14:45:09.401314Z"
    }
   },
   "id": "695092cd75a4a521",
   "execution_count": 4
  },
  {
   "cell_type": "code",
   "outputs": [
    {
     "data": {
      "text/plain": "                        Location  Count\n0      Christchurch, New Zealand   2795\n1                   New York, NY   1872\n2         London, United Kingdom   1711\n3                             UK   1707\n4  Sunshine Coast QLD, Australia   1558\n5                      Australia   1199\n6                       Seat 21A   1056\n7              Vancouver, Canada   1051\n8                    Netherlands   1013\n9                     London, UK    947",
      "text/html": "<div>\n<style scoped>\n    .dataframe tbody tr th:only-of-type {\n        vertical-align: middle;\n    }\n\n    .dataframe tbody tr th {\n        vertical-align: top;\n    }\n\n    .dataframe thead th {\n        text-align: right;\n    }\n</style>\n<table border=\"1\" class=\"dataframe\">\n  <thead>\n    <tr style=\"text-align: right;\">\n      <th></th>\n      <th>Location</th>\n      <th>Count</th>\n    </tr>\n  </thead>\n  <tbody>\n    <tr>\n      <th>0</th>\n      <td>Christchurch, New Zealand</td>\n      <td>2795</td>\n    </tr>\n    <tr>\n      <th>1</th>\n      <td>New York, NY</td>\n      <td>1872</td>\n    </tr>\n    <tr>\n      <th>2</th>\n      <td>London, United Kingdom</td>\n      <td>1711</td>\n    </tr>\n    <tr>\n      <th>3</th>\n      <td>UK</td>\n      <td>1707</td>\n    </tr>\n    <tr>\n      <th>4</th>\n      <td>Sunshine Coast QLD, Australia</td>\n      <td>1558</td>\n    </tr>\n    <tr>\n      <th>5</th>\n      <td>Australia</td>\n      <td>1199</td>\n    </tr>\n    <tr>\n      <th>6</th>\n      <td>Seat 21A</td>\n      <td>1056</td>\n    </tr>\n    <tr>\n      <th>7</th>\n      <td>Vancouver, Canada</td>\n      <td>1051</td>\n    </tr>\n    <tr>\n      <th>8</th>\n      <td>Netherlands</td>\n      <td>1013</td>\n    </tr>\n    <tr>\n      <th>9</th>\n      <td>London, UK</td>\n      <td>947</td>\n    </tr>\n  </tbody>\n</table>\n</div>"
     },
     "execution_count": 5,
     "metadata": {},
     "output_type": "execute_result"
    }
   ],
   "source": [
    "#Wynik zapytania\n",
    "sqlRes_1"
   ],
   "metadata": {
    "collapsed": false,
    "ExecuteTime": {
     "end_time": "2024-03-30T14:45:09.773316200Z",
     "start_time": "2024-03-30T14:45:09.752282200Z"
    }
   },
   "id": "4990d133f595075d",
   "execution_count": 5
  },
  {
   "cell_type": "code",
   "outputs": [],
   "source": [
    "# Wynik implementacji w pandas\n",
    "pdRes_1=solution_1(Posts,Users)"
   ],
   "metadata": {
    "collapsed": false,
    "is_executing": true
   },
   "id": "14d156b84c6f51c"
  },
  {
   "cell_type": "code",
   "outputs": [],
   "source": [
    "# porównanie zgodnosci\n",
    "pdRes_1.equals(sqlRes_1)"
   ],
   "metadata": {
    "collapsed": false,
    "is_executing": true
   },
   "id": "89df6d2542062ad0",
   "execution_count": null
  },
  {
   "cell_type": "markdown",
   "source": [
    "## zapytanie 2\n"
   ],
   "metadata": {
    "collapsed": false
   },
   "id": "dd846824ea3e276f"
  },
  {
   "cell_type": "code",
   "outputs": [],
   "source": [
    "# sql\n",
    "sqlRes_2=pd.read_sql_query(sql=\"\"\"\n",
    "SELECT Posts.Title, RelatedTab.NumLinks\n",
    "FROM\n",
    "(\n",
    "SELECT RelatedPostId AS PostId, COUNT(*) AS NumLinks\n",
    "FROM PostLinks\n",
    "GROUP BY RelatedPostId\n",
    ") AS RelatedTab\n",
    "JOIN Posts ON RelatedTab.PostId=Posts.Id\n",
    "WHERE Posts.PostTypeId=1\n",
    "ORDER BY NumLinks DESC\n",
    " \"\"\",con=conn)"
   ],
   "metadata": {
    "collapsed": false,
    "is_executing": true,
    "ExecuteTime": {
     "start_time": "2024-03-30T14:45:15.125326700Z"
    }
   },
   "id": "f13e4d3f03f9bc2c"
  },
  {
   "cell_type": "code",
   "outputs": [],
   "source": [
    "sqlRes_2"
   ],
   "metadata": {
    "collapsed": false,
    "is_executing": true
   },
   "id": "d1a4056819e6a73f"
  },
  {
   "cell_type": "code",
   "outputs": [
    {
     "data": {
      "text/plain": "123"
     },
     "execution_count": 553,
     "metadata": {},
     "output_type": "execute_result"
    }
   ],
   "source": [
    "def sol2(Posts,PostLinks):\n",
    "    "
   ],
   "metadata": {
    "collapsed": false,
    "ExecuteTime": {
     "end_time": "2024-03-29T03:05:42.600760700Z",
     "start_time": "2024-03-29T03:05:42.445141900Z"
    }
   },
   "id": "1654724041aba396",
   "execution_count": 553
  },
  {
   "cell_type": "code",
   "outputs": [],
   "source": [
    "conn.close()"
   ],
   "metadata": {
    "collapsed": false,
    "is_executing": true
   },
   "id": "d8fe4f5645291601",
   "execution_count": null
  }
 ],
 "metadata": {
  "kernelspec": {
   "display_name": "Python 3",
   "language": "python",
   "name": "python3"
  },
  "language_info": {
   "codemirror_mode": {
    "name": "ipython",
    "version": 2
   },
   "file_extension": ".py",
   "mimetype": "text/x-python",
   "name": "python",
   "nbconvert_exporter": "python",
   "pygments_lexer": "ipython2",
   "version": "2.7.6"
  }
 },
 "nbformat": 4,
 "nbformat_minor": 5
}
