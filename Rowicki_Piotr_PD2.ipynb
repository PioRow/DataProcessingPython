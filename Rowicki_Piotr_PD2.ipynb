{
 "cells": [
  {
   "cell_type": "markdown",
   "source": [
    "# Przetwarzanie Danych w językach R i Python Projekt 2\n",
    "# Piotr Rowicki 320730\n"
   ],
   "metadata": {
    "collapsed": false
   },
   "id": "d416399da72ca1ce"
  },
  {
   "cell_type": "markdown",
   "source": [
    "## Wstęp \n",
    "Podobnie jak język R, pyhon również udostępnia narzędzie do przetwarzania danych. Jest nim biblioteka pandas. Podobnie jak w projekcie 1, porównamy jej działanie z zapytaniami SQL.\n",
    "Zapytania mają dokładnie taką samą tresć jak te z pierwszego projektu, więc interpretacja ich zostanie pominięta. A ponieważ implementowane będą one tylko jedną petodą (poza wzorcową, która przez swój charakter nie ma szans być wydajniejsza), porównania czasowe również zostaną pominięte "
   ],
   "metadata": {
    "collapsed": false
   },
   "id": "2cf809e79c832530"
  },
  {
   "cell_type": "code",
   "outputs": [],
   "source": [
    "#załączenie dependencji\n",
    "from  Rowicki_Piotr_PD2 import *\n",
    "import pandas as pd\n",
    "import  numpy as np\n",
    "import sqlite3\n",
    "import os"
   ],
   "metadata": {
    "collapsed": true,
    "ExecuteTime": {
     "end_time": "2024-03-30T22:10:01.613963Z",
     "start_time": "2024-03-30T22:10:01.059996900Z"
    }
   },
   "id": "initial_id",
   "execution_count": 1
  },
  {
   "cell_type": "code",
   "outputs": [],
   "source": [
    "# wczytanie danych\n",
    "Posts = pd.read_csv(\"travel_stackexchange_com/Posts.csv.gz\",compression = 'gzip')\n",
    "Comments = pd.read_csv(\"travel_stackexchange_com/Comments.csv.gz\",compression = 'gzip')\n",
    "Users = pd.read_csv(\"travel_stackexchange_com/Users.csv.gz\",compression = 'gzip')\n",
    "PostLinks = pd.read_csv(\"travel_stackexchange_com/PostLinks.csv.gz\",compression = 'gzip')"
   ],
   "metadata": {
    "collapsed": false,
    "ExecuteTime": {
     "end_time": "2024-03-30T22:10:03.396798600Z",
     "start_time": "2024-03-30T22:10:01.612963300Z"
    }
   },
   "id": "22f1ec54a63ef279",
   "execution_count": 2
  },
  {
   "cell_type": "code",
   "outputs": [
    {
     "data": {
      "text/plain": "95922"
     },
     "execution_count": 3,
     "metadata": {},
     "output_type": "execute_result"
    }
   ],
   "source": [
    "# ustanowienie połączenia i wypełnienie bazy danych\n",
    "database=os.path.join(\"stackexchange.db\")\n",
    "if os.path.exists(database):\n",
    "    os.remove(database)\n",
    "conn = sqlite3.connect(database)\n",
    "PostLinks.to_sql(\"PostLinks\",conn)\n",
    "Posts.to_sql(\"Posts\",conn)\n",
    "Comments.to_sql(\"Comments\",conn)\n",
    "Users.to_sql(\"Users\",conn)"
   ],
   "metadata": {
    "collapsed": false,
    "ExecuteTime": {
     "end_time": "2024-03-30T22:10:04.850491900Z",
     "start_time": "2024-03-30T22:10:03.398356700Z"
    }
   },
   "id": "3058403e0476b564",
   "execution_count": 3
  },
  {
   "cell_type": "code",
   "outputs": [],
   "source": [
    "# w przypadku kiedy baza juz istnieje\n",
    "database=os.path.join(\"stackexchange.db\")\n",
    "conn = sqlite3.connect(database)"
   ],
   "metadata": {
    "collapsed": false,
    "is_executing": true
   },
   "id": "1f45af2776c01a2b"
  },
  {
   "cell_type": "markdown",
   "source": [
    "## Zapytanie 1\n"
   ],
   "metadata": {
    "collapsed": false
   },
   "id": "17b178f778aa81b8"
  },
  {
   "cell_type": "markdown",
   "source": [
    "### SQL"
   ],
   "metadata": {
    "collapsed": false
   },
   "id": "c5c3af3b6c1473d8"
  },
  {
   "cell_type": "code",
   "outputs": [],
   "source": [
    "sqlRes_1=pd.read_sql_query(sql=\"\"\"SELECT Location, COUNT(*) AS Count\n",
    "FROM (\n",
    "SELECT Posts.OwnerUserId, Users.Id, Users.Location\n",
    "FROM Users\n",
    "JOIN Posts ON Users.Id = Posts.OwnerUserId\n",
    ")\n",
    "WHERE Location NOT IN ('')\n",
    "GROUP BY Location\n",
    "ORDER BY Count DESC\n",
    "LIMIT 10\n",
    "\"\"\",con=conn)"
   ],
   "metadata": {
    "collapsed": false,
    "ExecuteTime": {
     "end_time": "2024-03-30T22:10:06.500523100Z",
     "start_time": "2024-03-30T22:10:06.353268400Z"
    }
   },
   "id": "695092cd75a4a521",
   "execution_count": 4
  },
  {
   "cell_type": "code",
   "outputs": [
    {
     "data": {
      "text/plain": "                        Location  Count\n0      Christchurch, New Zealand   2795\n1                   New York, NY   1872\n2         London, United Kingdom   1711\n3                             UK   1707\n4  Sunshine Coast QLD, Australia   1558\n5                      Australia   1199\n6                       Seat 21A   1056\n7              Vancouver, Canada   1051\n8                    Netherlands   1013\n9                     London, UK    947",
      "text/html": "<div>\n<style scoped>\n    .dataframe tbody tr th:only-of-type {\n        vertical-align: middle;\n    }\n\n    .dataframe tbody tr th {\n        vertical-align: top;\n    }\n\n    .dataframe thead th {\n        text-align: right;\n    }\n</style>\n<table border=\"1\" class=\"dataframe\">\n  <thead>\n    <tr style=\"text-align: right;\">\n      <th></th>\n      <th>Location</th>\n      <th>Count</th>\n    </tr>\n  </thead>\n  <tbody>\n    <tr>\n      <th>0</th>\n      <td>Christchurch, New Zealand</td>\n      <td>2795</td>\n    </tr>\n    <tr>\n      <th>1</th>\n      <td>New York, NY</td>\n      <td>1872</td>\n    </tr>\n    <tr>\n      <th>2</th>\n      <td>London, United Kingdom</td>\n      <td>1711</td>\n    </tr>\n    <tr>\n      <th>3</th>\n      <td>UK</td>\n      <td>1707</td>\n    </tr>\n    <tr>\n      <th>4</th>\n      <td>Sunshine Coast QLD, Australia</td>\n      <td>1558</td>\n    </tr>\n    <tr>\n      <th>5</th>\n      <td>Australia</td>\n      <td>1199</td>\n    </tr>\n    <tr>\n      <th>6</th>\n      <td>Seat 21A</td>\n      <td>1056</td>\n    </tr>\n    <tr>\n      <th>7</th>\n      <td>Vancouver, Canada</td>\n      <td>1051</td>\n    </tr>\n    <tr>\n      <th>8</th>\n      <td>Netherlands</td>\n      <td>1013</td>\n    </tr>\n    <tr>\n      <th>9</th>\n      <td>London, UK</td>\n      <td>947</td>\n    </tr>\n  </tbody>\n</table>\n</div>"
     },
     "execution_count": 6,
     "metadata": {},
     "output_type": "execute_result"
    }
   ],
   "source": [
    "#Wynik zapytania\n",
    "sqlRes_1"
   ],
   "metadata": {
    "collapsed": false,
    "ExecuteTime": {
     "end_time": "2024-03-30T22:10:09.144289700Z",
     "start_time": "2024-03-30T22:10:09.140211900Z"
    }
   },
   "id": "4990d133f595075d",
   "execution_count": 6
  },
  {
   "cell_type": "markdown",
   "source": [
    "### Wynik implementacji w pandas"
   ],
   "metadata": {
    "collapsed": false
   },
   "id": "2fcb35e37737ee8c"
  },
  {
   "cell_type": "code",
   "outputs": [
    {
     "data": {
      "text/plain": "                        Location  Count\n0      Christchurch, New Zealand   2795\n1                   New York, NY   1872\n2         London, United Kingdom   1711\n3                             UK   1707\n4  Sunshine Coast QLD, Australia   1558\n5                      Australia   1199\n6                       Seat 21A   1056\n7              Vancouver, Canada   1051\n8                    Netherlands   1013\n9                     London, UK    947",
      "text/html": "<div>\n<style scoped>\n    .dataframe tbody tr th:only-of-type {\n        vertical-align: middle;\n    }\n\n    .dataframe tbody tr th {\n        vertical-align: top;\n    }\n\n    .dataframe thead th {\n        text-align: right;\n    }\n</style>\n<table border=\"1\" class=\"dataframe\">\n  <thead>\n    <tr style=\"text-align: right;\">\n      <th></th>\n      <th>Location</th>\n      <th>Count</th>\n    </tr>\n  </thead>\n  <tbody>\n    <tr>\n      <th>0</th>\n      <td>Christchurch, New Zealand</td>\n      <td>2795</td>\n    </tr>\n    <tr>\n      <th>1</th>\n      <td>New York, NY</td>\n      <td>1872</td>\n    </tr>\n    <tr>\n      <th>2</th>\n      <td>London, United Kingdom</td>\n      <td>1711</td>\n    </tr>\n    <tr>\n      <th>3</th>\n      <td>UK</td>\n      <td>1707</td>\n    </tr>\n    <tr>\n      <th>4</th>\n      <td>Sunshine Coast QLD, Australia</td>\n      <td>1558</td>\n    </tr>\n    <tr>\n      <th>5</th>\n      <td>Australia</td>\n      <td>1199</td>\n    </tr>\n    <tr>\n      <th>6</th>\n      <td>Seat 21A</td>\n      <td>1056</td>\n    </tr>\n    <tr>\n      <th>7</th>\n      <td>Vancouver, Canada</td>\n      <td>1051</td>\n    </tr>\n    <tr>\n      <th>8</th>\n      <td>Netherlands</td>\n      <td>1013</td>\n    </tr>\n    <tr>\n      <th>9</th>\n      <td>London, UK</td>\n      <td>947</td>\n    </tr>\n  </tbody>\n</table>\n</div>"
     },
     "execution_count": 6,
     "metadata": {},
     "output_type": "execute_result"
    }
   ],
   "source": [
    "pdRes_1=solution_1(Posts,Users)"
   ],
   "metadata": {
    "collapsed": false,
    "ExecuteTime": {
     "end_time": "2024-03-30T14:55:44.770895800Z",
     "start_time": "2024-03-30T14:55:44.682561500Z"
    }
   },
   "id": "14d156b84c6f51c",
   "execution_count": 6
  },
  {
   "cell_type": "code",
   "outputs": [],
   "source": [
    "#wynik\n",
    "pdRes_1"
   ],
   "metadata": {
    "collapsed": false
   },
   "id": "2b5fc8b032969ce1"
  },
  {
   "cell_type": "markdown",
   "source": [
    "### porównanie zgodnosci"
   ],
   "metadata": {
    "collapsed": false
   },
   "id": "e696d0d030624e06"
  },
  {
   "cell_type": "code",
   "outputs": [
    {
     "ename": "NameError",
     "evalue": "name 'sqlRes_1' is not defined",
     "output_type": "error",
     "traceback": [
      "\u001B[1;31m---------------------------------------------------------------------------\u001B[0m",
      "\u001B[1;31mNameError\u001B[0m                                 Traceback (most recent call last)",
      "Cell \u001B[1;32mIn[5], line 2\u001B[0m\n\u001B[0;32m      1\u001B[0m \u001B[38;5;66;03m# porównanie zgodnosci\u001B[39;00m\n\u001B[1;32m----> 2\u001B[0m pdRes_1\u001B[38;5;241m.\u001B[39mequals(\u001B[43msqlRes_1\u001B[49m)\n",
      "\u001B[1;31mNameError\u001B[0m: name 'sqlRes_1' is not defined"
     ]
    }
   ],
   "source": [
    "\n",
    "pdRes_1.equals(sqlRes_1)"
   ],
   "metadata": {
    "collapsed": false,
    "ExecuteTime": {
     "end_time": "2024-03-30T14:55:39.915918900Z",
     "start_time": "2024-03-30T14:55:39.428236600Z"
    }
   },
   "id": "89df6d2542062ad0",
   "execution_count": 5
  },
  {
   "cell_type": "markdown",
   "source": [
    "## zapytanie 2\n"
   ],
   "metadata": {
    "collapsed": false
   },
   "id": "dd846824ea3e276f"
  },
  {
   "cell_type": "markdown",
   "source": [
    "### SQL"
   ],
   "metadata": {
    "collapsed": false
   },
   "id": "7ceb7e57aa9ac54d"
  },
  {
   "cell_type": "code",
   "outputs": [],
   "source": [
    "sqlRes_2=pd.read_sql_query(sql=\"\"\"SELECT Posts.Title, RelatedTab.NumLinks\n",
    "    FROM\n",
    "    (\n",
    "    SELECT RelatedPostId AS PostId, COUNT(*) AS NumLinks\n",
    "    FROM PostLinks\n",
    "    GROUP BY RelatedPostId\n",
    "    ) AS RelatedTab\n",
    "    JOIN Posts ON RelatedTab.PostId=Posts.Id\n",
    "    WHERE Posts.PostTypeId=1\n",
    "    ORDER BY NumLinks DESC\n",
    " \"\"\",con=conn)"
   ],
   "metadata": {
    "collapsed": false,
    "is_executing": true,
    "ExecuteTime": {
     "start_time": "2024-03-30T22:20:18.022726Z"
    }
   },
   "id": "f13e4d3f03f9bc2c"
  },
  {
   "cell_type": "code",
   "outputs": [],
   "source": [
    "#wynik\n",
    "sqlRes_2"
   ],
   "metadata": {
    "collapsed": false
   },
   "id": "1217245e16f4cf46"
  },
  {
   "cell_type": "markdown",
   "source": [
    "### Wynik implementacji w pandas"
   ],
   "metadata": {
    "collapsed": false
   },
   "id": "22ef854009705b5b"
  },
  {
   "cell_type": "code",
   "outputs": [
    {
     "data": {
      "text/plain": "                                                  Title  NumLinks\n0     Is there a way to find out if I need a transit...      1157\n1     Do I need a visa to transit (or layover) in th...      1012\n2     Should I submit bank statements when applying ...       669\n3     UK visa refusal on V 4.2 a + c (and sometimes ...       523\n4     Should my first trip be to the country which i...       461\n...                                                 ...       ...\n8094  Do I have to go through customs, recheck my ba...         1\n8095        Bringing tea bags in zip lock bag to Korea?         1\n8096  Renting a flat in Lille for a few months - opt...         1\n8097  Alternative to public hot water bath in Japan ...         1\n8098  Does bought duty-free count towards cabin lugg...         1\n\n[8099 rows x 2 columns]",
      "text/html": "<div>\n<style scoped>\n    .dataframe tbody tr th:only-of-type {\n        vertical-align: middle;\n    }\n\n    .dataframe tbody tr th {\n        vertical-align: top;\n    }\n\n    .dataframe thead th {\n        text-align: right;\n    }\n</style>\n<table border=\"1\" class=\"dataframe\">\n  <thead>\n    <tr style=\"text-align: right;\">\n      <th></th>\n      <th>Title</th>\n      <th>NumLinks</th>\n    </tr>\n  </thead>\n  <tbody>\n    <tr>\n      <th>0</th>\n      <td>Is there a way to find out if I need a transit...</td>\n      <td>1157</td>\n    </tr>\n    <tr>\n      <th>1</th>\n      <td>Do I need a visa to transit (or layover) in th...</td>\n      <td>1012</td>\n    </tr>\n    <tr>\n      <th>2</th>\n      <td>Should I submit bank statements when applying ...</td>\n      <td>669</td>\n    </tr>\n    <tr>\n      <th>3</th>\n      <td>UK visa refusal on V 4.2 a + c (and sometimes ...</td>\n      <td>523</td>\n    </tr>\n    <tr>\n      <th>4</th>\n      <td>Should my first trip be to the country which i...</td>\n      <td>461</td>\n    </tr>\n    <tr>\n      <th>...</th>\n      <td>...</td>\n      <td>...</td>\n    </tr>\n    <tr>\n      <th>8094</th>\n      <td>Do I have to go through customs, recheck my ba...</td>\n      <td>1</td>\n    </tr>\n    <tr>\n      <th>8095</th>\n      <td>Bringing tea bags in zip lock bag to Korea?</td>\n      <td>1</td>\n    </tr>\n    <tr>\n      <th>8096</th>\n      <td>Renting a flat in Lille for a few months - opt...</td>\n      <td>1</td>\n    </tr>\n    <tr>\n      <th>8097</th>\n      <td>Alternative to public hot water bath in Japan ...</td>\n      <td>1</td>\n    </tr>\n    <tr>\n      <th>8098</th>\n      <td>Does bought duty-free count towards cabin lugg...</td>\n      <td>1</td>\n    </tr>\n  </tbody>\n</table>\n<p>8099 rows × 2 columns</p>\n</div>"
     },
     "execution_count": 18,
     "metadata": {},
     "output_type": "execute_result"
    }
   ],
   "source": [
    "pdRes_2=solution_2(Posts,Users)"
   ],
   "metadata": {
    "collapsed": false,
    "ExecuteTime": {
     "end_time": "2024-03-30T15:07:06.581554600Z",
     "start_time": "2024-03-30T15:07:06.544702800Z"
    }
   },
   "id": "1654724041aba396",
   "execution_count": 18
  },
  {
   "cell_type": "markdown",
   "source": [
    "### porównanie zgodności"
   ],
   "metadata": {
    "collapsed": false
   },
   "id": "1f9b2e91c912df6c"
  },
  {
   "cell_type": "code",
   "outputs": [],
   "source": [
    "pdRes_2.equals(sqlRes_2)"
   ],
   "metadata": {
    "collapsed": false
   },
   "id": "1143b78207ffe065"
  },
  {
   "cell_type": "markdown",
   "source": [
    "## Zapytanie 3"
   ],
   "metadata": {
    "collapsed": false
   },
   "id": "e416cec9f0555f52"
  },
  {
   "cell_type": "markdown",
   "source": [
    "### SQL"
   ],
   "metadata": {
    "collapsed": false
   },
   "id": "712aa72ca64da5e6"
  },
  {
   "cell_type": "code",
   "outputs": [],
   "source": [
    "\n",
    "sqlRes_3=pd.read_sql_query(sql=\"\"\"SELECT Posts.Title, FROM Posts\"\"\"\n",
    "                           ,con=conn)"
   ],
   "metadata": {
    "collapsed": false
   },
   "id": "a47664c304f68d91"
  },
  {
   "cell_type": "code",
   "outputs": [],
   "source": [
    "sqlRes_3"
   ],
   "metadata": {
    "collapsed": false
   },
   "id": "9c686fd4cca3e2bb"
  },
  {
   "cell_type": "markdown",
   "source": [
    "### wynik implementacji w Pandas"
   ],
   "metadata": {
    "collapsed": false
   },
   "id": "fdc62c224b4da23c"
  },
  {
   "cell_type": "code",
   "outputs": [],
   "source": [
    "pdRes_3=solution_3(Comments,Posts,Users)"
   ],
   "metadata": {
    "collapsed": false
   },
   "id": "56fe30c8247f8a8"
  },
  {
   "cell_type": "markdown",
   "source": [
    "### porównanie wyników"
   ],
   "metadata": {
    "collapsed": false
   },
   "id": "1505f2ef174b350f"
  },
  {
   "cell_type": "code",
   "outputs": [],
   "source": [
    "pdRes_3.equals(sqlRes_3)"
   ],
   "metadata": {
    "collapsed": false
   },
   "id": "17ede6fcd2b98eff"
  },
  {
   "cell_type": "code",
   "outputs": [],
   "source": [
    "conn.close()"
   ],
   "metadata": {
    "collapsed": false,
    "is_executing": true
   },
   "id": "d8fe4f5645291601",
   "execution_count": null
  },
  {
   "cell_type": "code",
   "outputs": [],
   "source": [],
   "metadata": {
    "collapsed": false
   },
   "id": "dac77d0f4fdfc42d"
  }
 ],
 "metadata": {
  "kernelspec": {
   "display_name": "Python 3",
   "language": "python",
   "name": "python3"
  },
  "language_info": {
   "codemirror_mode": {
    "name": "ipython",
    "version": 2
   },
   "file_extension": ".py",
   "mimetype": "text/x-python",
   "name": "python",
   "nbconvert_exporter": "python",
   "pygments_lexer": "ipython2",
   "version": "2.7.6"
  }
 },
 "nbformat": 4,
 "nbformat_minor": 5
}
