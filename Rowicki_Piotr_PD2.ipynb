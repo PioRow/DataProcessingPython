{
 "cells": [
  {
   "cell_type": "markdown",
   "source": [
    "# Przetwarzanie Danych w językach R i Python Projekt 2\n",
    "# Piotr Rowicki 320730\n"
   ],
   "metadata": {
    "collapsed": false
   },
   "id": "d416399da72ca1ce"
  },
  {
   "cell_type": "markdown",
   "source": [
    "## Wstęp \n",
    "Podobnie jak język R, pyhon również udostępnia narzędzie do przetwarzania danych. Jest nim biblioteka pandas. Podobnie jak w projekcie 1, porównamy jej działanie z zapytaniami SQL.\n",
    "Zapytania mają dokładnie taką samą tresć jak te z pierwszego projektu, więc interpretacja ich zostanie pominięta. A ponieważ implementowane będą one tylko jedną petodą (poza wzorcową, która przez swój charakter nie ma szans być wydajniejsza), porównania czasowe również zostaną pominięte "
   ],
   "metadata": {
    "collapsed": false
   },
   "id": "2cf809e79c832530"
  },
  {
   "cell_type": "code",
   "outputs": [],
   "source": [
    "#załączenie dependencji\n",
    "from  Rowicki_Piotr_PD2 import *\n",
    "import pandas as pd\n",
    "import sqlite3\n",
    "import os"
   ],
   "metadata": {
    "collapsed": true,
    "ExecuteTime": {
     "end_time": "2024-04-04T16:54:49.229418800Z",
     "start_time": "2024-04-04T16:54:48.993487400Z"
    }
   },
   "id": "initial_id",
   "execution_count": 73
  },
  {
   "cell_type": "code",
   "outputs": [],
   "source": [
    "# wczytanie danych\n",
    "Posts = pd.read_csv(\"travel_stackexchange_com/Posts.csv.gz\",compression = 'gzip')\n",
    "Comments = pd.read_csv(\"travel_stackexchange_com/Comments.csv.gz\",compression = 'gzip')\n",
    "Users = pd.read_csv(\"travel_stackexchange_com/Users.csv.gz\",compression = 'gzip')\n",
    "PostLinks = pd.read_csv(\"travel_stackexchange_com/PostLinks.csv.gz\",compression = 'gzip')"
   ],
   "metadata": {
    "collapsed": false,
    "ExecuteTime": {
     "end_time": "2024-04-04T16:54:53.430668500Z",
     "start_time": "2024-04-04T16:54:49.247120700Z"
    }
   },
   "id": "22f1ec54a63ef279",
   "execution_count": 74
  },
  {
   "cell_type": "code",
   "outputs": [
    {
     "data": {
      "text/plain": "95922"
     },
     "execution_count": 75,
     "metadata": {},
     "output_type": "execute_result"
    }
   ],
   "source": [
    "# ustanowienie połączenia i wypełnienie bazy danych\n",
    "database=os.path.join(\"stackexchange.db\")\n",
    "if os.path.exists(database):\n",
    "    os.remove(database)\n",
    "conn = sqlite3.connect(database)\n",
    "PostLinks.to_sql(\"PostLinks\",conn)\n",
    "Posts.to_sql(\"Posts\",conn)\n",
    "Comments.to_sql(\"Comments\",conn)\n",
    "Users.to_sql(\"Users\",conn)"
   ],
   "metadata": {
    "collapsed": false,
    "ExecuteTime": {
     "end_time": "2024-04-04T16:54:56.737845200Z",
     "start_time": "2024-04-04T16:54:53.435070100Z"
    }
   },
   "id": "3058403e0476b564",
   "execution_count": 75
  },
  {
   "cell_type": "code",
   "outputs": [],
   "source": [
    "# w przypadku kiedy baza juz istnieje\n",
    "database=os.path.join(\"stackexchange.db\")\n",
    "conn = sqlite3.connect(database)"
   ],
   "metadata": {
    "collapsed": false,
    "ExecuteTime": {
     "end_time": "2024-04-04T16:54:56.752961800Z",
     "start_time": "2024-04-04T16:54:56.742296200Z"
    }
   },
   "id": "1f45af2776c01a2b",
   "execution_count": 76
  },
  {
   "cell_type": "code",
   "outputs": [],
   "source": [
    "# pomocnicza funkcja do porównywania ramek\n",
    "def compare(x,y):\n",
    "    if x.shape[0]!=y.shape[0] or x.shape[1]!=y.shape[1]:\n",
    "        return False\n",
    "    return x.sort_values(by=x.columns.tolist(), ascending=False,ignore_index=True).equals(y.sort_values(by=y.columns.tolist(), ascending=False,ignore_index=True))"
   ],
   "metadata": {
    "collapsed": false,
    "ExecuteTime": {
     "end_time": "2024-04-04T16:54:56.768165700Z",
     "start_time": "2024-04-04T16:54:56.749690500Z"
    }
   },
   "id": "61cd90167ce7ddac",
   "execution_count": 77
  },
  {
   "cell_type": "markdown",
   "source": [
    "## Zapytanie 1\n"
   ],
   "metadata": {
    "collapsed": false
   },
   "id": "17b178f778aa81b8"
  },
  {
   "cell_type": "markdown",
   "source": [
    "### SQL"
   ],
   "metadata": {
    "collapsed": false
   },
   "id": "c5c3af3b6c1473d8"
  },
  {
   "cell_type": "code",
   "outputs": [],
   "source": [
    "sqlRes_1=pd.read_sql_query(sql=\"\"\"SELECT Location, COUNT(*) AS Count\n",
    "FROM (\n",
    "SELECT Posts.OwnerUserId, Users.Id, Users.Location\n",
    "FROM Users\n",
    "JOIN Posts ON Users.Id = Posts.OwnerUserId\n",
    ")\n",
    "WHERE Location NOT IN ('')\n",
    "GROUP BY Location\n",
    "ORDER BY Count DESC\n",
    "LIMIT 10\n",
    "\"\"\",con=conn)"
   ],
   "metadata": {
    "collapsed": false,
    "ExecuteTime": {
     "end_time": "2024-04-04T16:54:57.081893300Z",
     "start_time": "2024-04-04T16:54:56.764912Z"
    }
   },
   "id": "695092cd75a4a521",
   "execution_count": 78
  },
  {
   "cell_type": "code",
   "outputs": [
    {
     "data": {
      "text/plain": "                        Location  Count\n0      Christchurch, New Zealand   2795\n1                   New York, NY   1872\n2         London, United Kingdom   1711\n3                             UK   1707\n4  Sunshine Coast QLD, Australia   1558\n5                      Australia   1199\n6                       Seat 21A   1056\n7              Vancouver, Canada   1051\n8                    Netherlands   1013\n9                     London, UK    947",
      "text/html": "<div>\n<style scoped>\n    .dataframe tbody tr th:only-of-type {\n        vertical-align: middle;\n    }\n\n    .dataframe tbody tr th {\n        vertical-align: top;\n    }\n\n    .dataframe thead th {\n        text-align: right;\n    }\n</style>\n<table border=\"1\" class=\"dataframe\">\n  <thead>\n    <tr style=\"text-align: right;\">\n      <th></th>\n      <th>Location</th>\n      <th>Count</th>\n    </tr>\n  </thead>\n  <tbody>\n    <tr>\n      <th>0</th>\n      <td>Christchurch, New Zealand</td>\n      <td>2795</td>\n    </tr>\n    <tr>\n      <th>1</th>\n      <td>New York, NY</td>\n      <td>1872</td>\n    </tr>\n    <tr>\n      <th>2</th>\n      <td>London, United Kingdom</td>\n      <td>1711</td>\n    </tr>\n    <tr>\n      <th>3</th>\n      <td>UK</td>\n      <td>1707</td>\n    </tr>\n    <tr>\n      <th>4</th>\n      <td>Sunshine Coast QLD, Australia</td>\n      <td>1558</td>\n    </tr>\n    <tr>\n      <th>5</th>\n      <td>Australia</td>\n      <td>1199</td>\n    </tr>\n    <tr>\n      <th>6</th>\n      <td>Seat 21A</td>\n      <td>1056</td>\n    </tr>\n    <tr>\n      <th>7</th>\n      <td>Vancouver, Canada</td>\n      <td>1051</td>\n    </tr>\n    <tr>\n      <th>8</th>\n      <td>Netherlands</td>\n      <td>1013</td>\n    </tr>\n    <tr>\n      <th>9</th>\n      <td>London, UK</td>\n      <td>947</td>\n    </tr>\n  </tbody>\n</table>\n</div>"
     },
     "execution_count": 79,
     "metadata": {},
     "output_type": "execute_result"
    }
   ],
   "source": [
    "#Wynik zapytania\n",
    "sqlRes_1"
   ],
   "metadata": {
    "collapsed": false,
    "ExecuteTime": {
     "end_time": "2024-04-04T16:54:57.103121400Z",
     "start_time": "2024-04-04T16:54:57.084093700Z"
    }
   },
   "id": "4990d133f595075d",
   "execution_count": 79
  },
  {
   "cell_type": "markdown",
   "source": [
    "### Pandas"
   ],
   "metadata": {
    "collapsed": false
   },
   "id": "2fcb35e37737ee8c"
  },
  {
   "cell_type": "code",
   "outputs": [],
   "source": [
    "pdRes_1=solution_1(Posts,Users)"
   ],
   "metadata": {
    "collapsed": false,
    "ExecuteTime": {
     "end_time": "2024-04-04T16:54:57.269747Z",
     "start_time": "2024-04-04T16:54:57.119993800Z"
    }
   },
   "id": "14d156b84c6f51c",
   "execution_count": 80
  },
  {
   "cell_type": "code",
   "outputs": [
    {
     "data": {
      "text/plain": "                        Location  Count\n0      Christchurch, New Zealand   2795\n1                   New York, NY   1872\n2         London, United Kingdom   1711\n3                             UK   1707\n4  Sunshine Coast QLD, Australia   1558\n5                      Australia   1199\n6                       Seat 21A   1056\n7              Vancouver, Canada   1051\n8                    Netherlands   1013\n9                     London, UK    947",
      "text/html": "<div>\n<style scoped>\n    .dataframe tbody tr th:only-of-type {\n        vertical-align: middle;\n    }\n\n    .dataframe tbody tr th {\n        vertical-align: top;\n    }\n\n    .dataframe thead th {\n        text-align: right;\n    }\n</style>\n<table border=\"1\" class=\"dataframe\">\n  <thead>\n    <tr style=\"text-align: right;\">\n      <th></th>\n      <th>Location</th>\n      <th>Count</th>\n    </tr>\n  </thead>\n  <tbody>\n    <tr>\n      <th>0</th>\n      <td>Christchurch, New Zealand</td>\n      <td>2795</td>\n    </tr>\n    <tr>\n      <th>1</th>\n      <td>New York, NY</td>\n      <td>1872</td>\n    </tr>\n    <tr>\n      <th>2</th>\n      <td>London, United Kingdom</td>\n      <td>1711</td>\n    </tr>\n    <tr>\n      <th>3</th>\n      <td>UK</td>\n      <td>1707</td>\n    </tr>\n    <tr>\n      <th>4</th>\n      <td>Sunshine Coast QLD, Australia</td>\n      <td>1558</td>\n    </tr>\n    <tr>\n      <th>5</th>\n      <td>Australia</td>\n      <td>1199</td>\n    </tr>\n    <tr>\n      <th>6</th>\n      <td>Seat 21A</td>\n      <td>1056</td>\n    </tr>\n    <tr>\n      <th>7</th>\n      <td>Vancouver, Canada</td>\n      <td>1051</td>\n    </tr>\n    <tr>\n      <th>8</th>\n      <td>Netherlands</td>\n      <td>1013</td>\n    </tr>\n    <tr>\n      <th>9</th>\n      <td>London, UK</td>\n      <td>947</td>\n    </tr>\n  </tbody>\n</table>\n</div>"
     },
     "execution_count": 81,
     "metadata": {},
     "output_type": "execute_result"
    }
   ],
   "source": [
    "#wynik\n",
    "pdRes_1"
   ],
   "metadata": {
    "collapsed": false,
    "ExecuteTime": {
     "end_time": "2024-04-04T16:54:57.273023Z",
     "start_time": "2024-04-04T16:54:57.219474300Z"
    }
   },
   "id": "2b5fc8b032969ce1",
   "execution_count": 81
  },
  {
   "cell_type": "markdown",
   "source": [
    "### porównanie zgodnosci"
   ],
   "metadata": {
    "collapsed": false
   },
   "id": "e696d0d030624e06"
  },
  {
   "cell_type": "code",
   "outputs": [
    {
     "data": {
      "text/plain": "True"
     },
     "execution_count": 82,
     "metadata": {},
     "output_type": "execute_result"
    }
   ],
   "source": [
    "pdRes_1.equals(sqlRes_1)"
   ],
   "metadata": {
    "collapsed": false,
    "ExecuteTime": {
     "end_time": "2024-04-04T16:54:57.282875400Z",
     "start_time": "2024-04-04T16:54:57.226207400Z"
    }
   },
   "id": "89df6d2542062ad0",
   "execution_count": 82
  },
  {
   "cell_type": "markdown",
   "source": [
    "## zapytanie 2\n"
   ],
   "metadata": {
    "collapsed": false
   },
   "id": "dd846824ea3e276f"
  },
  {
   "cell_type": "markdown",
   "source": [
    "### SQL"
   ],
   "metadata": {
    "collapsed": false
   },
   "id": "7ceb7e57aa9ac54d"
  },
  {
   "cell_type": "code",
   "outputs": [],
   "source": [
    "#wewnetrzna kwerenda, w celu obejscia problemow z biblioteka\n",
    "x=pd.read_sql(sql=\"\"\"SELECT RelatedPostId AS PostId, COUNT(*) AS NumLinks\n",
    "    FROM PostLinks\n",
    "    GROUP BY RelatedPostId\"\"\",con=conn)\n"
   ],
   "metadata": {
    "collapsed": false,
    "ExecuteTime": {
     "end_time": "2024-04-04T16:54:57.354975500Z",
     "start_time": "2024-04-04T16:54:57.237841200Z"
    }
   },
   "id": "7009e9955a03039b",
   "execution_count": 83
  },
  {
   "cell_type": "code",
   "outputs": [
    {
     "data": {
      "text/plain": "8369"
     },
     "execution_count": 84,
     "metadata": {},
     "output_type": "execute_result"
    }
   ],
   "source": [
    "# jednorazowe dopisanie nowej tabeli do bazy danych\n",
    "x.to_sql(\"RelatedTab\",conn,index=False)"
   ],
   "metadata": {
    "collapsed": false,
    "ExecuteTime": {
     "end_time": "2024-04-04T16:54:57.409722400Z",
     "start_time": "2024-04-04T16:54:57.273023Z"
    }
   },
   "id": "941b18a9876c48c3",
   "execution_count": 84
  },
  {
   "cell_type": "code",
   "outputs": [],
   "source": [
    "sqlRes_2=pd.read_sql_query(sql=\"\"\"SELECT Posts.Title, RelatedTab.NumLinks\n",
    "    FROM\n",
    "     RelatedTab\n",
    "    JOIN Posts ON RelatedTab.PostId=Posts.Id\n",
    "    WHERE Posts.PostTypeId=1\n",
    "    ORDER BY NumLinks DESC\n",
    " \"\"\",con=conn)\n",
    "sqlRes_2=sqlRes_2"
   ],
   "metadata": {
    "collapsed": false,
    "ExecuteTime": {
     "end_time": "2024-04-04T16:54:57.541601300Z",
     "start_time": "2024-04-04T16:54:57.298193700Z"
    }
   },
   "id": "f13e4d3f03f9bc2c",
   "execution_count": 85
  },
  {
   "cell_type": "code",
   "outputs": [
    {
     "data": {
      "text/plain": "                                                  Title  NumLinks\n0     Is there a way to find out if I need a transit...      1157\n1     Do I need a visa to transit (or layover) in th...      1012\n2     Should I submit bank statements when applying ...       669\n3     UK visa refusal on V 4.2 a + c (and sometimes ...       523\n4     Should my first trip be to the country which i...       461\n...                                                 ...       ...\n8094  Why can't I reserve a seat on the Eurocity tra...         1\n8095       Independent Research in the US under B1 visa         1\n8096     2 round tickets plus 1 back ticket to Thailand         1\n8097  Which flight search engines show the flight op...         1\n8098  Does bought duty-free count towards cabin lugg...         1\n\n[8099 rows x 2 columns]",
      "text/html": "<div>\n<style scoped>\n    .dataframe tbody tr th:only-of-type {\n        vertical-align: middle;\n    }\n\n    .dataframe tbody tr th {\n        vertical-align: top;\n    }\n\n    .dataframe thead th {\n        text-align: right;\n    }\n</style>\n<table border=\"1\" class=\"dataframe\">\n  <thead>\n    <tr style=\"text-align: right;\">\n      <th></th>\n      <th>Title</th>\n      <th>NumLinks</th>\n    </tr>\n  </thead>\n  <tbody>\n    <tr>\n      <th>0</th>\n      <td>Is there a way to find out if I need a transit...</td>\n      <td>1157</td>\n    </tr>\n    <tr>\n      <th>1</th>\n      <td>Do I need a visa to transit (or layover) in th...</td>\n      <td>1012</td>\n    </tr>\n    <tr>\n      <th>2</th>\n      <td>Should I submit bank statements when applying ...</td>\n      <td>669</td>\n    </tr>\n    <tr>\n      <th>3</th>\n      <td>UK visa refusal on V 4.2 a + c (and sometimes ...</td>\n      <td>523</td>\n    </tr>\n    <tr>\n      <th>4</th>\n      <td>Should my first trip be to the country which i...</td>\n      <td>461</td>\n    </tr>\n    <tr>\n      <th>...</th>\n      <td>...</td>\n      <td>...</td>\n    </tr>\n    <tr>\n      <th>8094</th>\n      <td>Why can't I reserve a seat on the Eurocity tra...</td>\n      <td>1</td>\n    </tr>\n    <tr>\n      <th>8095</th>\n      <td>Independent Research in the US under B1 visa</td>\n      <td>1</td>\n    </tr>\n    <tr>\n      <th>8096</th>\n      <td>2 round tickets plus 1 back ticket to Thailand</td>\n      <td>1</td>\n    </tr>\n    <tr>\n      <th>8097</th>\n      <td>Which flight search engines show the flight op...</td>\n      <td>1</td>\n    </tr>\n    <tr>\n      <th>8098</th>\n      <td>Does bought duty-free count towards cabin lugg...</td>\n      <td>1</td>\n    </tr>\n  </tbody>\n</table>\n<p>8099 rows × 2 columns</p>\n</div>"
     },
     "execution_count": 86,
     "metadata": {},
     "output_type": "execute_result"
    }
   ],
   "source": [
    "#wynik\n",
    "sqlRes_2"
   ],
   "metadata": {
    "collapsed": false,
    "ExecuteTime": {
     "end_time": "2024-04-04T16:54:57.589316Z",
     "start_time": "2024-04-04T16:54:57.482475600Z"
    }
   },
   "id": "1217245e16f4cf46",
   "execution_count": 86
  },
  {
   "cell_type": "markdown",
   "source": [
    "### Pandas"
   ],
   "metadata": {
    "collapsed": false
   },
   "id": "22ef854009705b5b"
  },
  {
   "cell_type": "code",
   "outputs": [
    {
     "data": {
      "text/plain": "                                                  Title  NumLinks\n0     Is there a way to find out if I need a transit...      1157\n1     Do I need a visa to transit (or layover) in th...      1012\n2     Should I submit bank statements when applying ...       669\n3     UK visa refusal on V 4.2 a + c (and sometimes ...       523\n4     Should my first trip be to the country which i...       461\n...                                                 ...       ...\n8094  Do I have to go through customs, recheck my ba...         1\n8095        Bringing tea bags in zip lock bag to Korea?         1\n8096  Renting a flat in Lille for a few months - opt...         1\n8097  Alternative to public hot water bath in Japan ...         1\n8098  Does bought duty-free count towards cabin lugg...         1\n\n[8099 rows x 2 columns]",
      "text/html": "<div>\n<style scoped>\n    .dataframe tbody tr th:only-of-type {\n        vertical-align: middle;\n    }\n\n    .dataframe tbody tr th {\n        vertical-align: top;\n    }\n\n    .dataframe thead th {\n        text-align: right;\n    }\n</style>\n<table border=\"1\" class=\"dataframe\">\n  <thead>\n    <tr style=\"text-align: right;\">\n      <th></th>\n      <th>Title</th>\n      <th>NumLinks</th>\n    </tr>\n  </thead>\n  <tbody>\n    <tr>\n      <th>0</th>\n      <td>Is there a way to find out if I need a transit...</td>\n      <td>1157</td>\n    </tr>\n    <tr>\n      <th>1</th>\n      <td>Do I need a visa to transit (or layover) in th...</td>\n      <td>1012</td>\n    </tr>\n    <tr>\n      <th>2</th>\n      <td>Should I submit bank statements when applying ...</td>\n      <td>669</td>\n    </tr>\n    <tr>\n      <th>3</th>\n      <td>UK visa refusal on V 4.2 a + c (and sometimes ...</td>\n      <td>523</td>\n    </tr>\n    <tr>\n      <th>4</th>\n      <td>Should my first trip be to the country which i...</td>\n      <td>461</td>\n    </tr>\n    <tr>\n      <th>...</th>\n      <td>...</td>\n      <td>...</td>\n    </tr>\n    <tr>\n      <th>8094</th>\n      <td>Do I have to go through customs, recheck my ba...</td>\n      <td>1</td>\n    </tr>\n    <tr>\n      <th>8095</th>\n      <td>Bringing tea bags in zip lock bag to Korea?</td>\n      <td>1</td>\n    </tr>\n    <tr>\n      <th>8096</th>\n      <td>Renting a flat in Lille for a few months - opt...</td>\n      <td>1</td>\n    </tr>\n    <tr>\n      <th>8097</th>\n      <td>Alternative to public hot water bath in Japan ...</td>\n      <td>1</td>\n    </tr>\n    <tr>\n      <th>8098</th>\n      <td>Does bought duty-free count towards cabin lugg...</td>\n      <td>1</td>\n    </tr>\n  </tbody>\n</table>\n<p>8099 rows × 2 columns</p>\n</div>"
     },
     "execution_count": 87,
     "metadata": {},
     "output_type": "execute_result"
    }
   ],
   "source": [
    "pdRes_2=solution_2(Posts,PostLinks)\n",
    "pdRes_2"
   ],
   "metadata": {
    "collapsed": false,
    "ExecuteTime": {
     "end_time": "2024-04-04T16:54:57.654540700Z",
     "start_time": "2024-04-04T16:54:57.502228400Z"
    }
   },
   "id": "1654724041aba396",
   "execution_count": 87
  },
  {
   "cell_type": "markdown",
   "source": [
    "### porównanie zgodności"
   ],
   "metadata": {
    "collapsed": false
   },
   "id": "1f9b2e91c912df6c"
  },
  {
   "cell_type": "code",
   "outputs": [
    {
     "data": {
      "text/plain": "True"
     },
     "execution_count": 88,
     "metadata": {},
     "output_type": "execute_result"
    }
   ],
   "source": [
    "compare(pdRes_2,sqlRes_2)"
   ],
   "metadata": {
    "collapsed": false,
    "ExecuteTime": {
     "end_time": "2024-04-04T16:54:57.677940800Z",
     "start_time": "2024-04-04T16:54:57.550541800Z"
    }
   },
   "id": "1143b78207ffe065",
   "execution_count": 88
  },
  {
   "cell_type": "markdown",
   "source": [
    "## Zapytanie 3"
   ],
   "metadata": {
    "collapsed": false
   },
   "id": "e416cec9f0555f52"
  },
  {
   "cell_type": "markdown",
   "source": [
    "### SQL"
   ],
   "metadata": {
    "collapsed": false
   },
   "id": "712aa72ca64da5e6"
  },
  {
   "cell_type": "code",
   "outputs": [],
   "source": [
    "sqlRes_3=pd.read_sql_query(sql=\"\"\"SELECT Title, CommentCount, ViewCount, CommentsTotalScore,\n",
    "DisplayName, Reputation, Location\n",
    "FROM (\n",
    "SELECT Posts.OwnerUserId, Posts.Title, Posts.CommentCount, Posts.ViewCount,\n",
    "CmtTotScr.CommentsTotalScore\n",
    "FROM (\n",
    "SELECT PostId, SUM(Score) AS CommentsTotalScore\n",
    "FROM Comments\n",
    "GROUP BY PostId\n",
    ") AS CmtTotScr\n",
    "JOIN Posts ON Posts.Id = CmtTotScr.PostId\n",
    "WHERE Posts.PostTypeId=1\n",
    ") AS PostsBestComments\n",
    "JOIN Users ON PostsBestComments.OwnerUserId = Users.Id\n",
    "ORDER BY CommentsTotalScore DESC\n",
    "\"\"\"\n",
    ",con=conn)\n",
    "# W celu usprawnienia wywołania, limit 10 na końcu zapytania zostało pominięte. Z tego powodu z wyniku wybieramy tylko pierwsze 10 wierszy\n",
    "sqlRes_3=sqlRes_3[0:10]"
   ],
   "metadata": {
    "collapsed": false,
    "ExecuteTime": {
     "end_time": "2024-04-04T16:54:58.320371500Z",
     "start_time": "2024-04-04T16:54:57.601080400Z"
    }
   },
   "id": "a47664c304f68d91",
   "execution_count": 89
  },
  {
   "cell_type": "code",
   "outputs": [
    {
     "data": {
      "text/plain": "                                               Title  CommentCount  ViewCount  \\\n0  Boss is asking for passport, but it has a stam...            24    61309.0   \n1  How to intentionally get denied entry to the U...            37    72856.0   \n2  Can I wear a bulletproof vest while traveling ...            26    23467.0   \n3  OK we're all adults here, so really, how on ea...            29   113001.0   \n4  Being separated from one's young children on a...            36    14308.0   \n5  Immigration officer that stopped me at the air...            24    22495.0   \n6  How to avoid toddlers on a long-distance plane...            18    29344.0   \n7                         Can I fly with a gold bar?            25    55450.0   \n8  How to book a flight if my passport doesn't st...            23    18029.0   \n9  Why don't airlines have backup planes just in ...            26    18809.0   \n\n   CommentsTotalScore    DisplayName  Reputation  \\\n0                 630          Megha        1679   \n1                 618      user11743        1997   \n2                 403         Ulkoma        9190   \n3                 388    hippietrail       75994   \n4                 358    Emma-louise         611   \n5                 345         DiegoJ        1273   \n6                 343  Silver Dragon         943   \n7                 333         Ulkoma        9190   \n8                 330          kukis         894   \n9                 328      clickbait         542   \n\n                        Location  \n0                           None  \n1                           None  \n2         London, United Kingdom  \n3  Sunshine Coast QLD, Australia  \n4                           None  \n5                   Buenos Aires  \n6   San Francisco, United States  \n7         London, United Kingdom  \n8             Sztokholm, Szwecja  \n9                           None  ",
      "text/html": "<div>\n<style scoped>\n    .dataframe tbody tr th:only-of-type {\n        vertical-align: middle;\n    }\n\n    .dataframe tbody tr th {\n        vertical-align: top;\n    }\n\n    .dataframe thead th {\n        text-align: right;\n    }\n</style>\n<table border=\"1\" class=\"dataframe\">\n  <thead>\n    <tr style=\"text-align: right;\">\n      <th></th>\n      <th>Title</th>\n      <th>CommentCount</th>\n      <th>ViewCount</th>\n      <th>CommentsTotalScore</th>\n      <th>DisplayName</th>\n      <th>Reputation</th>\n      <th>Location</th>\n    </tr>\n  </thead>\n  <tbody>\n    <tr>\n      <th>0</th>\n      <td>Boss is asking for passport, but it has a stam...</td>\n      <td>24</td>\n      <td>61309.0</td>\n      <td>630</td>\n      <td>Megha</td>\n      <td>1679</td>\n      <td>None</td>\n    </tr>\n    <tr>\n      <th>1</th>\n      <td>How to intentionally get denied entry to the U...</td>\n      <td>37</td>\n      <td>72856.0</td>\n      <td>618</td>\n      <td>user11743</td>\n      <td>1997</td>\n      <td>None</td>\n    </tr>\n    <tr>\n      <th>2</th>\n      <td>Can I wear a bulletproof vest while traveling ...</td>\n      <td>26</td>\n      <td>23467.0</td>\n      <td>403</td>\n      <td>Ulkoma</td>\n      <td>9190</td>\n      <td>London, United Kingdom</td>\n    </tr>\n    <tr>\n      <th>3</th>\n      <td>OK we're all adults here, so really, how on ea...</td>\n      <td>29</td>\n      <td>113001.0</td>\n      <td>388</td>\n      <td>hippietrail</td>\n      <td>75994</td>\n      <td>Sunshine Coast QLD, Australia</td>\n    </tr>\n    <tr>\n      <th>4</th>\n      <td>Being separated from one's young children on a...</td>\n      <td>36</td>\n      <td>14308.0</td>\n      <td>358</td>\n      <td>Emma-louise</td>\n      <td>611</td>\n      <td>None</td>\n    </tr>\n    <tr>\n      <th>5</th>\n      <td>Immigration officer that stopped me at the air...</td>\n      <td>24</td>\n      <td>22495.0</td>\n      <td>345</td>\n      <td>DiegoJ</td>\n      <td>1273</td>\n      <td>Buenos Aires</td>\n    </tr>\n    <tr>\n      <th>6</th>\n      <td>How to avoid toddlers on a long-distance plane...</td>\n      <td>18</td>\n      <td>29344.0</td>\n      <td>343</td>\n      <td>Silver Dragon</td>\n      <td>943</td>\n      <td>San Francisco, United States</td>\n    </tr>\n    <tr>\n      <th>7</th>\n      <td>Can I fly with a gold bar?</td>\n      <td>25</td>\n      <td>55450.0</td>\n      <td>333</td>\n      <td>Ulkoma</td>\n      <td>9190</td>\n      <td>London, United Kingdom</td>\n    </tr>\n    <tr>\n      <th>8</th>\n      <td>How to book a flight if my passport doesn't st...</td>\n      <td>23</td>\n      <td>18029.0</td>\n      <td>330</td>\n      <td>kukis</td>\n      <td>894</td>\n      <td>Sztokholm, Szwecja</td>\n    </tr>\n    <tr>\n      <th>9</th>\n      <td>Why don't airlines have backup planes just in ...</td>\n      <td>26</td>\n      <td>18809.0</td>\n      <td>328</td>\n      <td>clickbait</td>\n      <td>542</td>\n      <td>None</td>\n    </tr>\n  </tbody>\n</table>\n</div>"
     },
     "execution_count": 90,
     "metadata": {},
     "output_type": "execute_result"
    }
   ],
   "source": [
    "# wynik\n",
    "sqlRes_3"
   ],
   "metadata": {
    "collapsed": false,
    "ExecuteTime": {
     "end_time": "2024-04-04T16:54:58.337513500Z",
     "start_time": "2024-04-04T16:54:58.322541600Z"
    }
   },
   "id": "9c686fd4cca3e2bb",
   "execution_count": 90
  },
  {
   "cell_type": "markdown",
   "source": [
    "### wynik implementacji w Pandas"
   ],
   "metadata": {
    "collapsed": false
   },
   "id": "fdc62c224b4da23c"
  },
  {
   "cell_type": "code",
   "outputs": [],
   "source": [
    "pdRes_3=solution_3(Comments,Posts,Users)"
   ],
   "metadata": {
    "collapsed": false,
    "ExecuteTime": {
     "end_time": "2024-04-04T16:54:58.519432600Z",
     "start_time": "2024-04-04T16:54:58.336442800Z"
    }
   },
   "id": "959951dec3dfbe3d",
   "execution_count": 91
  },
  {
   "cell_type": "code",
   "outputs": [
    {
     "data": {
      "text/plain": "                                               Title  CommentCount  ViewCount  \\\n0  Boss is asking for passport, but it has a stam...            24    61309.0   \n1  How to intentionally get denied entry to the U...            37    72856.0   \n2  Can I wear a bulletproof vest while traveling ...            26    23467.0   \n3  OK we're all adults here, so really, how on ea...            29   113001.0   \n4  Being separated from one's young children on a...            36    14308.0   \n5  Immigration officer that stopped me at the air...            24    22495.0   \n6  How to avoid toddlers on a long-distance plane...            18    29344.0   \n7                         Can I fly with a gold bar?            25    55450.0   \n8  How to book a flight if my passport doesn't st...            23    18029.0   \n9  Why don't airlines have backup planes just in ...            26    18809.0   \n\n   CommentsTotalScore    DisplayName  Reputation  \\\n0                 630          Megha        1679   \n1                 618      user11743        1997   \n2                 403         Ulkoma        9190   \n3                 388    hippietrail       75994   \n4                 358    Emma-louise         611   \n5                 345         DiegoJ        1273   \n6                 343  Silver Dragon         943   \n7                 333         Ulkoma        9190   \n8                 330          kukis         894   \n9                 328      clickbait         542   \n\n                        Location  \n0                            NaN  \n1                            NaN  \n2         London, United Kingdom  \n3  Sunshine Coast QLD, Australia  \n4                            NaN  \n5                   Buenos Aires  \n6   San Francisco, United States  \n7         London, United Kingdom  \n8             Sztokholm, Szwecja  \n9                            NaN  ",
      "text/html": "<div>\n<style scoped>\n    .dataframe tbody tr th:only-of-type {\n        vertical-align: middle;\n    }\n\n    .dataframe tbody tr th {\n        vertical-align: top;\n    }\n\n    .dataframe thead th {\n        text-align: right;\n    }\n</style>\n<table border=\"1\" class=\"dataframe\">\n  <thead>\n    <tr style=\"text-align: right;\">\n      <th></th>\n      <th>Title</th>\n      <th>CommentCount</th>\n      <th>ViewCount</th>\n      <th>CommentsTotalScore</th>\n      <th>DisplayName</th>\n      <th>Reputation</th>\n      <th>Location</th>\n    </tr>\n  </thead>\n  <tbody>\n    <tr>\n      <th>0</th>\n      <td>Boss is asking for passport, but it has a stam...</td>\n      <td>24</td>\n      <td>61309.0</td>\n      <td>630</td>\n      <td>Megha</td>\n      <td>1679</td>\n      <td>NaN</td>\n    </tr>\n    <tr>\n      <th>1</th>\n      <td>How to intentionally get denied entry to the U...</td>\n      <td>37</td>\n      <td>72856.0</td>\n      <td>618</td>\n      <td>user11743</td>\n      <td>1997</td>\n      <td>NaN</td>\n    </tr>\n    <tr>\n      <th>2</th>\n      <td>Can I wear a bulletproof vest while traveling ...</td>\n      <td>26</td>\n      <td>23467.0</td>\n      <td>403</td>\n      <td>Ulkoma</td>\n      <td>9190</td>\n      <td>London, United Kingdom</td>\n    </tr>\n    <tr>\n      <th>3</th>\n      <td>OK we're all adults here, so really, how on ea...</td>\n      <td>29</td>\n      <td>113001.0</td>\n      <td>388</td>\n      <td>hippietrail</td>\n      <td>75994</td>\n      <td>Sunshine Coast QLD, Australia</td>\n    </tr>\n    <tr>\n      <th>4</th>\n      <td>Being separated from one's young children on a...</td>\n      <td>36</td>\n      <td>14308.0</td>\n      <td>358</td>\n      <td>Emma-louise</td>\n      <td>611</td>\n      <td>NaN</td>\n    </tr>\n    <tr>\n      <th>5</th>\n      <td>Immigration officer that stopped me at the air...</td>\n      <td>24</td>\n      <td>22495.0</td>\n      <td>345</td>\n      <td>DiegoJ</td>\n      <td>1273</td>\n      <td>Buenos Aires</td>\n    </tr>\n    <tr>\n      <th>6</th>\n      <td>How to avoid toddlers on a long-distance plane...</td>\n      <td>18</td>\n      <td>29344.0</td>\n      <td>343</td>\n      <td>Silver Dragon</td>\n      <td>943</td>\n      <td>San Francisco, United States</td>\n    </tr>\n    <tr>\n      <th>7</th>\n      <td>Can I fly with a gold bar?</td>\n      <td>25</td>\n      <td>55450.0</td>\n      <td>333</td>\n      <td>Ulkoma</td>\n      <td>9190</td>\n      <td>London, United Kingdom</td>\n    </tr>\n    <tr>\n      <th>8</th>\n      <td>How to book a flight if my passport doesn't st...</td>\n      <td>23</td>\n      <td>18029.0</td>\n      <td>330</td>\n      <td>kukis</td>\n      <td>894</td>\n      <td>Sztokholm, Szwecja</td>\n    </tr>\n    <tr>\n      <th>9</th>\n      <td>Why don't airlines have backup planes just in ...</td>\n      <td>26</td>\n      <td>18809.0</td>\n      <td>328</td>\n      <td>clickbait</td>\n      <td>542</td>\n      <td>NaN</td>\n    </tr>\n  </tbody>\n</table>\n</div>"
     },
     "execution_count": 92,
     "metadata": {},
     "output_type": "execute_result"
    }
   ],
   "source": [
    "# wynik\n",
    "pdRes_3"
   ],
   "metadata": {
    "collapsed": false,
    "ExecuteTime": {
     "end_time": "2024-04-04T16:54:58.527900400Z",
     "start_time": "2024-04-04T16:54:58.520541200Z"
    }
   },
   "id": "56fe30c8247f8a8",
   "execution_count": 92
  },
  {
   "cell_type": "markdown",
   "source": [
    "### porównanie wyników"
   ],
   "metadata": {
    "collapsed": false
   },
   "id": "1505f2ef174b350f"
  },
  {
   "cell_type": "code",
   "outputs": [
    {
     "data": {
      "text/plain": "True"
     },
     "execution_count": 93,
     "metadata": {},
     "output_type": "execute_result"
    }
   ],
   "source": [
    "pdRes_3.equals(sqlRes_3)"
   ],
   "metadata": {
    "collapsed": false,
    "ExecuteTime": {
     "end_time": "2024-04-04T16:54:58.549225900Z",
     "start_time": "2024-04-04T16:54:58.529038400Z"
    }
   },
   "id": "17ede6fcd2b98eff",
   "execution_count": 93
  },
  {
   "cell_type": "markdown",
   "source": [
    "## Zapytanie 4"
   ],
   "metadata": {
    "collapsed": false
   },
   "id": "c8562eb3f20fdaf5"
  },
  {
   "cell_type": "markdown",
   "source": [
    "### SQL"
   ],
   "metadata": {
    "collapsed": false
   },
   "id": "73c1c3acf705a925"
  },
  {
   "cell_type": "code",
   "outputs": [],
   "source": [
    "sqlRes_4=pd.read_sql_query(sql=\"\"\"SELECT DisplayName, QuestionsNumber, AnswersNumber, Location,\n",
    "Reputation, UpVotes, DownVotes\n",
    "FROM (\n",
    "SELECT *\n",
    "FROM (\n",
    "SELECT COUNT(*) as AnswersNumber, OwnerUserId\n",
    "FROM Posts\n",
    "WHERE PostTypeId = 2\n",
    "GROUP BY OwnerUserId\n",
    ") AS Answers\n",
    "JOIN\n",
    "(\n",
    "SELECT COUNT(*) as QuestionsNumber, OwnerUserId\n",
    "FROM Posts\n",
    "WHERE PostTypeId = 1\n",
    "GROUP BY OwnerUserId\n",
    ") AS Questions\n",
    "ON Answers.OwnerUserId = Questions.OwnerUserId\n",
    "WHERE AnswersNumber > QuestionsNumber\n",
    "ORDER BY AnswersNumber DESC\n",
    "LIMIT 5\n",
    ") AS PostsCounts\n",
    "JOIN Users ON PostsCounts.OwnerUserId = Users.Id\"\"\",\n",
    "con=conn)"
   ],
   "metadata": {
    "collapsed": false,
    "ExecuteTime": {
     "end_time": "2024-04-04T16:54:59.094630600Z",
     "start_time": "2024-04-04T16:54:58.535614200Z"
    }
   },
   "id": "15c37909f3c9e456",
   "execution_count": 94
  },
  {
   "cell_type": "code",
   "outputs": [
    {
     "data": {
      "text/plain": "   DisplayName  QuestionsNumber  AnswersNumber                   Location  \\\n0    Mark Mayo              344           1968  Christchurch, New Zealand   \n1        phoog               12           1690               New York, NY   \n2      Relaxed                8           1506                       None   \n3  lambshaanxy              117           1466                       None   \n4     Crazydre              172           1163                       None   \n\n   Reputation  UpVotes  DownVotes  \n0      157193    16082       1661  \n1      120317     8767        567  \n2       99185    11268        606  \n3       98555    15021        275  \n4       73180     2263        132  ",
      "text/html": "<div>\n<style scoped>\n    .dataframe tbody tr th:only-of-type {\n        vertical-align: middle;\n    }\n\n    .dataframe tbody tr th {\n        vertical-align: top;\n    }\n\n    .dataframe thead th {\n        text-align: right;\n    }\n</style>\n<table border=\"1\" class=\"dataframe\">\n  <thead>\n    <tr style=\"text-align: right;\">\n      <th></th>\n      <th>DisplayName</th>\n      <th>QuestionsNumber</th>\n      <th>AnswersNumber</th>\n      <th>Location</th>\n      <th>Reputation</th>\n      <th>UpVotes</th>\n      <th>DownVotes</th>\n    </tr>\n  </thead>\n  <tbody>\n    <tr>\n      <th>0</th>\n      <td>Mark Mayo</td>\n      <td>344</td>\n      <td>1968</td>\n      <td>Christchurch, New Zealand</td>\n      <td>157193</td>\n      <td>16082</td>\n      <td>1661</td>\n    </tr>\n    <tr>\n      <th>1</th>\n      <td>phoog</td>\n      <td>12</td>\n      <td>1690</td>\n      <td>New York, NY</td>\n      <td>120317</td>\n      <td>8767</td>\n      <td>567</td>\n    </tr>\n    <tr>\n      <th>2</th>\n      <td>Relaxed</td>\n      <td>8</td>\n      <td>1506</td>\n      <td>None</td>\n      <td>99185</td>\n      <td>11268</td>\n      <td>606</td>\n    </tr>\n    <tr>\n      <th>3</th>\n      <td>lambshaanxy</td>\n      <td>117</td>\n      <td>1466</td>\n      <td>None</td>\n      <td>98555</td>\n      <td>15021</td>\n      <td>275</td>\n    </tr>\n    <tr>\n      <th>4</th>\n      <td>Crazydre</td>\n      <td>172</td>\n      <td>1163</td>\n      <td>None</td>\n      <td>73180</td>\n      <td>2263</td>\n      <td>132</td>\n    </tr>\n  </tbody>\n</table>\n</div>"
     },
     "execution_count": 95,
     "metadata": {},
     "output_type": "execute_result"
    }
   ],
   "source": [
    "sqlRes_4"
   ],
   "metadata": {
    "collapsed": false,
    "ExecuteTime": {
     "end_time": "2024-04-04T16:54:59.098974400Z",
     "start_time": "2024-04-04T16:54:59.077580400Z"
    }
   },
   "id": "2a9660fc037a70b6",
   "execution_count": 95
  },
  {
   "cell_type": "markdown",
   "source": [
    "### Pandas"
   ],
   "metadata": {
    "collapsed": false
   },
   "id": "db550b9a37f86de9"
  },
  {
   "cell_type": "code",
   "outputs": [],
   "source": [
    "pdRes_4=solution_4(Posts,Users)\n"
   ],
   "metadata": {
    "collapsed": false,
    "ExecuteTime": {
     "end_time": "2024-04-04T16:54:59.186807100Z",
     "start_time": "2024-04-04T16:54:59.091360800Z"
    }
   },
   "id": "6f8782fd46bd0617",
   "execution_count": 96
  },
  {
   "cell_type": "code",
   "outputs": [
    {
     "data": {
      "text/plain": "   DisplayName  QuestionsNumber  AnswersNumber                   Location  \\\n0    Mark Mayo              344           1968  Christchurch, New Zealand   \n1        phoog               12           1690               New York, NY   \n2      Relaxed                8           1506                        NaN   \n3  lambshaanxy              117           1466                        NaN   \n4     Crazydre              172           1163                        NaN   \n\n   Reputation  UpVotes  DownVotes  \n0      157193    16082       1661  \n1      120317     8767        567  \n2       99185    11268        606  \n3       98555    15021        275  \n4       73180     2263        132  ",
      "text/html": "<div>\n<style scoped>\n    .dataframe tbody tr th:only-of-type {\n        vertical-align: middle;\n    }\n\n    .dataframe tbody tr th {\n        vertical-align: top;\n    }\n\n    .dataframe thead th {\n        text-align: right;\n    }\n</style>\n<table border=\"1\" class=\"dataframe\">\n  <thead>\n    <tr style=\"text-align: right;\">\n      <th></th>\n      <th>DisplayName</th>\n      <th>QuestionsNumber</th>\n      <th>AnswersNumber</th>\n      <th>Location</th>\n      <th>Reputation</th>\n      <th>UpVotes</th>\n      <th>DownVotes</th>\n    </tr>\n  </thead>\n  <tbody>\n    <tr>\n      <th>0</th>\n      <td>Mark Mayo</td>\n      <td>344</td>\n      <td>1968</td>\n      <td>Christchurch, New Zealand</td>\n      <td>157193</td>\n      <td>16082</td>\n      <td>1661</td>\n    </tr>\n    <tr>\n      <th>1</th>\n      <td>phoog</td>\n      <td>12</td>\n      <td>1690</td>\n      <td>New York, NY</td>\n      <td>120317</td>\n      <td>8767</td>\n      <td>567</td>\n    </tr>\n    <tr>\n      <th>2</th>\n      <td>Relaxed</td>\n      <td>8</td>\n      <td>1506</td>\n      <td>NaN</td>\n      <td>99185</td>\n      <td>11268</td>\n      <td>606</td>\n    </tr>\n    <tr>\n      <th>3</th>\n      <td>lambshaanxy</td>\n      <td>117</td>\n      <td>1466</td>\n      <td>NaN</td>\n      <td>98555</td>\n      <td>15021</td>\n      <td>275</td>\n    </tr>\n    <tr>\n      <th>4</th>\n      <td>Crazydre</td>\n      <td>172</td>\n      <td>1163</td>\n      <td>NaN</td>\n      <td>73180</td>\n      <td>2263</td>\n      <td>132</td>\n    </tr>\n  </tbody>\n</table>\n</div>"
     },
     "execution_count": 97,
     "metadata": {},
     "output_type": "execute_result"
    }
   ],
   "source": [
    "#wynik\n",
    "pdRes_4"
   ],
   "metadata": {
    "collapsed": false,
    "ExecuteTime": {
     "end_time": "2024-04-04T16:54:59.188017900Z",
     "start_time": "2024-04-04T16:54:59.145858200Z"
    }
   },
   "id": "9508fcead31322f4",
   "execution_count": 97
  },
  {
   "cell_type": "markdown",
   "source": [
    "### porównianie wyników"
   ],
   "metadata": {
    "collapsed": false
   },
   "id": "c04264e5176191e6"
  },
  {
   "cell_type": "code",
   "outputs": [
    {
     "data": {
      "text/plain": "True"
     },
     "execution_count": 98,
     "metadata": {},
     "output_type": "execute_result"
    }
   ],
   "source": [
    "pdRes_4.equals(sqlRes_4)"
   ],
   "metadata": {
    "collapsed": false,
    "ExecuteTime": {
     "end_time": "2024-04-04T16:54:59.190217700Z",
     "start_time": "2024-04-04T16:54:59.150189800Z"
    }
   },
   "id": "f3e7292ee6997586",
   "execution_count": 98
  },
  {
   "cell_type": "markdown",
   "source": [
    "## Zapytanie 5"
   ],
   "metadata": {
    "collapsed": false
   },
   "id": "23ee920f830a5542"
  },
  {
   "cell_type": "markdown",
   "source": [
    "### SQL"
   ],
   "metadata": {
    "collapsed": false
   },
   "id": "dcd9d5a01db7b350"
  },
  {
   "cell_type": "code",
   "outputs": [],
   "source": [
    "sqlRes_5=pd.read_sql_query(sql=\"\"\"SELECT\n",
    "Users.AccountId,\n",
    "Users.DisplayName,\n",
    "Users.Location,\n",
    "AVG(PostAuth.AnswersCount) as AverageAnswersCount\n",
    "FROM\n",
    "(\n",
    "SELECT\n",
    "AnsCount.AnswersCount,\n",
    "Posts.Id,\n",
    "Posts.OwnerUserId\n",
    "FROM (\n",
    "SELECT Posts.ParentId, COUNT(*) AS AnswersCount\n",
    "FROM Posts\n",
    "WHERE Posts.PostTypeId = 2\n",
    "GROUP BY Posts.ParentId\n",
    ") AS AnsCount\n",
    "JOIN Posts ON Posts.Id = AnsCount.ParentId\n",
    ") AS PostAuth\n",
    "JOIN Users ON Users.AccountId=PostAuth.OwnerUserId\n",
    "GROUP BY OwnerUserId\n",
    "ORDER BY AverageAnswersCount DESC\n",
    "LIMIT 10\n",
    "\"\"\",con=conn)"
   ],
   "metadata": {
    "collapsed": false,
    "ExecuteTime": {
     "end_time": "2024-04-04T16:54:59.898789200Z",
     "start_time": "2024-04-04T16:54:59.160444Z"
    }
   },
   "id": "2a568e3464ed18fa",
   "execution_count": 99
  },
  {
   "cell_type": "code",
   "outputs": [
    {
     "data": {
      "text/plain": "   AccountId      DisplayName           Location  AverageAnswersCount\n0    40811.0           vocaro       San Jose, CA                 11.0\n1      280.0            csmba  San Francisco, CA                 11.0\n2    44093.0    Emma Arbogast          Salem, OR                 10.0\n3      204.0             Josh          Australia                 10.0\n4    11758.0         rvarcher  Oklahoma City, OK                  9.0\n5    79346.0  Thomas Matthews         California                  8.0\n6    54571.0        Christian               None                  8.0\n7    42364.0         Petrogad               None                  8.0\n8    20473.0      Jeremy Boyd        Houston, TX                  8.0\n9    19588.0       JD Isaacks        Atlanta, GA                  8.0",
      "text/html": "<div>\n<style scoped>\n    .dataframe tbody tr th:only-of-type {\n        vertical-align: middle;\n    }\n\n    .dataframe tbody tr th {\n        vertical-align: top;\n    }\n\n    .dataframe thead th {\n        text-align: right;\n    }\n</style>\n<table border=\"1\" class=\"dataframe\">\n  <thead>\n    <tr style=\"text-align: right;\">\n      <th></th>\n      <th>AccountId</th>\n      <th>DisplayName</th>\n      <th>Location</th>\n      <th>AverageAnswersCount</th>\n    </tr>\n  </thead>\n  <tbody>\n    <tr>\n      <th>0</th>\n      <td>40811.0</td>\n      <td>vocaro</td>\n      <td>San Jose, CA</td>\n      <td>11.0</td>\n    </tr>\n    <tr>\n      <th>1</th>\n      <td>280.0</td>\n      <td>csmba</td>\n      <td>San Francisco, CA</td>\n      <td>11.0</td>\n    </tr>\n    <tr>\n      <th>2</th>\n      <td>44093.0</td>\n      <td>Emma Arbogast</td>\n      <td>Salem, OR</td>\n      <td>10.0</td>\n    </tr>\n    <tr>\n      <th>3</th>\n      <td>204.0</td>\n      <td>Josh</td>\n      <td>Australia</td>\n      <td>10.0</td>\n    </tr>\n    <tr>\n      <th>4</th>\n      <td>11758.0</td>\n      <td>rvarcher</td>\n      <td>Oklahoma City, OK</td>\n      <td>9.0</td>\n    </tr>\n    <tr>\n      <th>5</th>\n      <td>79346.0</td>\n      <td>Thomas Matthews</td>\n      <td>California</td>\n      <td>8.0</td>\n    </tr>\n    <tr>\n      <th>6</th>\n      <td>54571.0</td>\n      <td>Christian</td>\n      <td>None</td>\n      <td>8.0</td>\n    </tr>\n    <tr>\n      <th>7</th>\n      <td>42364.0</td>\n      <td>Petrogad</td>\n      <td>None</td>\n      <td>8.0</td>\n    </tr>\n    <tr>\n      <th>8</th>\n      <td>20473.0</td>\n      <td>Jeremy Boyd</td>\n      <td>Houston, TX</td>\n      <td>8.0</td>\n    </tr>\n    <tr>\n      <th>9</th>\n      <td>19588.0</td>\n      <td>JD Isaacks</td>\n      <td>Atlanta, GA</td>\n      <td>8.0</td>\n    </tr>\n  </tbody>\n</table>\n</div>"
     },
     "execution_count": 100,
     "metadata": {},
     "output_type": "execute_result"
    }
   ],
   "source": [
    "sqlRes_5"
   ],
   "metadata": {
    "collapsed": false,
    "ExecuteTime": {
     "end_time": "2024-04-04T16:54:59.902098600Z",
     "start_time": "2024-04-04T16:54:59.874654100Z"
    }
   },
   "id": "49dc652d4709ebf6",
   "execution_count": 100
  },
  {
   "cell_type": "markdown",
   "source": [
    "### Pandas"
   ],
   "metadata": {
    "collapsed": false
   },
   "id": "35d2a871991f688d"
  },
  {
   "cell_type": "code",
   "outputs": [],
   "source": [
    "pdRes_5=solution_5(Posts, Users)"
   ],
   "metadata": {
    "collapsed": false,
    "ExecuteTime": {
     "end_time": "2024-04-04T16:55:00.076461100Z",
     "start_time": "2024-04-04T16:54:59.895431Z"
    }
   },
   "id": "3a9a1fd31fa5233e",
   "execution_count": 101
  },
  {
   "cell_type": "code",
   "outputs": [
    {
     "data": {
      "text/plain": "   AccountId      DisplayName           Location  AverageAnswersCount\n0    40811.0           vocaro       San Jose, CA                 11.0\n1      280.0            csmba  San Francisco, CA                 11.0\n2    44093.0    Emma Arbogast          Salem, OR                 10.0\n3      204.0             Josh          Australia                 10.0\n4    11758.0         rvarcher  Oklahoma City, OK                  9.0\n5    19588.0       JD Isaacks        Atlanta, GA                  8.0\n6    54571.0        Christian                NaN                  8.0\n7    42364.0         Petrogad                NaN                  8.0\n8    79346.0  Thomas Matthews         California                  8.0\n9    20473.0      Jeremy Boyd        Houston, TX                  8.0",
      "text/html": "<div>\n<style scoped>\n    .dataframe tbody tr th:only-of-type {\n        vertical-align: middle;\n    }\n\n    .dataframe tbody tr th {\n        vertical-align: top;\n    }\n\n    .dataframe thead th {\n        text-align: right;\n    }\n</style>\n<table border=\"1\" class=\"dataframe\">\n  <thead>\n    <tr style=\"text-align: right;\">\n      <th></th>\n      <th>AccountId</th>\n      <th>DisplayName</th>\n      <th>Location</th>\n      <th>AverageAnswersCount</th>\n    </tr>\n  </thead>\n  <tbody>\n    <tr>\n      <th>0</th>\n      <td>40811.0</td>\n      <td>vocaro</td>\n      <td>San Jose, CA</td>\n      <td>11.0</td>\n    </tr>\n    <tr>\n      <th>1</th>\n      <td>280.0</td>\n      <td>csmba</td>\n      <td>San Francisco, CA</td>\n      <td>11.0</td>\n    </tr>\n    <tr>\n      <th>2</th>\n      <td>44093.0</td>\n      <td>Emma Arbogast</td>\n      <td>Salem, OR</td>\n      <td>10.0</td>\n    </tr>\n    <tr>\n      <th>3</th>\n      <td>204.0</td>\n      <td>Josh</td>\n      <td>Australia</td>\n      <td>10.0</td>\n    </tr>\n    <tr>\n      <th>4</th>\n      <td>11758.0</td>\n      <td>rvarcher</td>\n      <td>Oklahoma City, OK</td>\n      <td>9.0</td>\n    </tr>\n    <tr>\n      <th>5</th>\n      <td>19588.0</td>\n      <td>JD Isaacks</td>\n      <td>Atlanta, GA</td>\n      <td>8.0</td>\n    </tr>\n    <tr>\n      <th>6</th>\n      <td>54571.0</td>\n      <td>Christian</td>\n      <td>NaN</td>\n      <td>8.0</td>\n    </tr>\n    <tr>\n      <th>7</th>\n      <td>42364.0</td>\n      <td>Petrogad</td>\n      <td>NaN</td>\n      <td>8.0</td>\n    </tr>\n    <tr>\n      <th>8</th>\n      <td>79346.0</td>\n      <td>Thomas Matthews</td>\n      <td>California</td>\n      <td>8.0</td>\n    </tr>\n    <tr>\n      <th>9</th>\n      <td>20473.0</td>\n      <td>Jeremy Boyd</td>\n      <td>Houston, TX</td>\n      <td>8.0</td>\n    </tr>\n  </tbody>\n</table>\n</div>"
     },
     "execution_count": 102,
     "metadata": {},
     "output_type": "execute_result"
    }
   ],
   "source": [
    "#wynik\n",
    "pdRes_5"
   ],
   "metadata": {
    "collapsed": false,
    "ExecuteTime": {
     "end_time": "2024-04-04T16:55:00.086286400Z",
     "start_time": "2024-04-04T16:55:00.046613400Z"
    }
   },
   "id": "cb34e4820a92e1c4",
   "execution_count": 102
  },
  {
   "cell_type": "markdown",
   "source": [
    "### porówanie wyników"
   ],
   "metadata": {
    "collapsed": false
   },
   "id": "d761a464dc5ca02b"
  },
  {
   "cell_type": "code",
   "outputs": [
    {
     "data": {
      "text/plain": "True"
     },
     "execution_count": 103,
     "metadata": {},
     "output_type": "execute_result"
    }
   ],
   "source": [
    "compare(pdRes_5,sqlRes_5)"
   ],
   "metadata": {
    "collapsed": false,
    "ExecuteTime": {
     "end_time": "2024-04-04T16:55:00.117101200Z",
     "start_time": "2024-04-04T16:55:00.061913700Z"
    }
   },
   "id": "ebc9d2fdd19405d",
   "execution_count": 103
  },
  {
   "cell_type": "markdown",
   "source": [
    "## Podsumowanie\n",
    "Ponownie udało się odtowrzyć zadane zapytania korzystając z funkcjonalnosci biblioteki pandas.\n",
    "Porównując z wczesniej uzytych bibliotek, byla ona najprzyjemniejsza do użytku. Podobnie jak dplyr, składania była podobna do narzędzi obecnych w innych językach( LINQu w C#,  streams w Javie), przez co jej użycie było bardzo naturalne.Ponadto, same funkcjonalnosci jakie zapewnie język, były o wiele przyjemniejsze do stosowania."
   ],
   "metadata": {
    "collapsed": false
   },
   "id": "bb24df8af7160ed1"
  },
  {
   "cell_type": "code",
   "outputs": [],
   "source": [
    "#zamknięcie połączenia z bazą danych\n",
    "conn.close()"
   ],
   "metadata": {
    "collapsed": false,
    "ExecuteTime": {
     "end_time": "2024-04-04T16:55:00.314429300Z",
     "start_time": "2024-04-04T16:55:00.077559900Z"
    }
   },
   "id": "d8fe4f5645291601",
   "execution_count": 104
  }
 ],
 "metadata": {
  "kernelspec": {
   "display_name": "Python 3",
   "language": "python",
   "name": "python3"
  },
  "language_info": {
   "codemirror_mode": {
    "name": "ipython",
    "version": 2
   },
   "file_extension": ".py",
   "mimetype": "text/x-python",
   "name": "python",
   "nbconvert_exporter": "python",
   "pygments_lexer": "ipython2",
   "version": "2.7.6"
  }
 },
 "nbformat": 4,
 "nbformat_minor": 5
}
